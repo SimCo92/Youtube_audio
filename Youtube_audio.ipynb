{
 "cells": [
  {
   "cell_type": "code",
   "execution_count": 2,
   "metadata": {},
   "outputs": [
    {
     "ename": "ModuleNotFoundError",
     "evalue": "No module named 'pytube'",
     "output_type": "error",
     "traceback": [
      "\u001b[0;31m---------------------------------------------------------------------------\u001b[0m",
      "\u001b[0;31mModuleNotFoundError\u001b[0m                       Traceback (most recent call last)",
      "\u001b[0;32m<ipython-input-2-219bc44288b1>\u001b[0m in \u001b[0;36m<module>\u001b[0;34m()\u001b[0m\n\u001b[1;32m      1\u001b[0m \u001b[0;31m#$ pip install pytube\u001b[0m\u001b[0;34m\u001b[0m\u001b[0;34m\u001b[0m\u001b[0m\n\u001b[0;32m----> 2\u001b[0;31m \u001b[0;32mfrom\u001b[0m \u001b[0mpytube\u001b[0m \u001b[0;32mimport\u001b[0m \u001b[0mYouTube\u001b[0m\u001b[0;34m\u001b[0m\u001b[0m\n\u001b[0m",
      "\u001b[0;31mModuleNotFoundError\u001b[0m: No module named 'pytube'"
     ]
    }
   ],
   "source": [
    "#$ pip install pytube\n",
    "from pytube import YouTube\n"
   ]
  },
  {
   "cell_type": "code",
   "execution_count": 1,
   "metadata": {},
   "outputs": [],
   "source": [
    "video_link = ['https://www.youtube.com/watch?v=0HQqXllXpfQ','https://www.youtube.com/watch?v=mA7tcDryYDU&t=567s', 'https://www.youtube.com/watch?v=qHp2ooJxJRs', 'https://www.youtube.com/watch?v=4s34XjQFBjg&t=2566s', 'https://www.youtube.com/watch?v=nf-TSiYNd48', 'https://www.youtube.com/watch?v=hF7O9c_Kdoc']"
   ]
  },
  {
   "cell_type": "code",
   "execution_count": 49,
   "metadata": {},
   "outputs": [],
   "source": [
    "for v in video_link:\n",
    "    yt = YouTube(v)\n",
    "    # audio = yt.streams.get_by_itag('140')\n",
    "    audio = yt.streams.filter(only_audio=True).first()\n",
    "    audio.download()"
   ]
  },
  {
   "cell_type": "code",
   "execution_count": 50,
   "metadata": {},
   "outputs": [],
   "source": [
    "yt = YouTube(video_link[0])\n",
    "audio = yt.streams.filter(only_audio=True).all()"
   ]
  }
 ],
 "metadata": {
  "kernelspec": {
   "display_name": "Python 3",
   "language": "python",
   "name": "python3"
  },
  "language_info": {
   "codemirror_mode": {
    "name": "ipython",
    "version": 3
   },
   "file_extension": ".py",
   "mimetype": "text/x-python",
   "name": "python",
   "nbconvert_exporter": "python",
   "pygments_lexer": "ipython3",
   "version": "3.7.0"
  }
 },
 "nbformat": 4,
 "nbformat_minor": 2
}
